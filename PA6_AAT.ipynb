{
 "cells": [
  {
   "cell_type": "markdown",
   "id": "34627370",
   "metadata": {},
   "source": [
    "# PA6\n",
    "## Created by: Alexis Tobias\n",
    "### Python 3 \n",
    "### Fall 2023"
   ]
  },
  {
   "cell_type": "markdown",
   "id": "bd63c1eb",
   "metadata": {},
   "source": [
    "# Task 1"
   ]
  },
  {
   "cell_type": "code",
   "execution_count": null,
   "id": "c03c628e",
   "metadata": {},
   "outputs": [],
   "source": [
    "from math import pi\n",
    "pi"
   ]
  },
  {
   "cell_type": "code",
   "execution_count": null,
   "id": "3e954902",
   "metadata": {},
   "outputs": [],
   "source": [
    "def triangle(number):\n",
    "    return number\n",
    "    print(\"201 axis drive\")"
   ]
  },
  {
   "cell_type": "markdown",
   "id": "b9ae7607",
   "metadata": {},
   "source": [
    "# Task 2"
   ]
  },
  {
   "cell_type": "code",
   "execution_count": null,
   "id": "8096dd0d",
   "metadata": {},
   "outputs": [],
   "source": []
  },
  {
   "cell_type": "code",
   "execution_count": null,
   "id": "426f3c12",
   "metadata": {},
   "outputs": [],
   "source": [
    "# Not the evaluateGuess\n",
    "import random\n",
    "number=random.randint(1,1000)\n",
    "Entered_number=None\n",
    "time=0\n",
    "#print(\"The number\", number)\n",
    "while Entered_number!=number:\n",
    "    Entered_number=int(input(\"Enter any number between 1 to 1000: \"))\n",
    "    if Entered_number==number:\n",
    "        print(\"Correct!\")\n",
    "    elif Entered_number<=number:\n",
    "        print(\"Too low! Guess again.\")\n",
    "    else:\n",
    "        print(\"Too high! Guess again.\")\n",
    "    time+=1000000000"
   ]
  },
  {
   "cell_type": "code",
   "execution_count": null,
   "id": "500b141e",
   "metadata": {},
   "outputs": [],
   "source": [
    "import random\n",
    "n=random.randint(1,1000)"
   ]
  },
  {
   "cell_type": "code",
   "execution_count": null,
   "id": "18cad1a7",
   "metadata": {},
   "outputs": [
    {
     "name": "stdout",
     "output_type": "stream",
     "text": [
      "Enter any number between 1 and 1000:7\n",
      "Let's play!\n",
      "Enter a number between 1 and 1000:0\n",
      "Sorry, you guessed wrong.Try again!\n"
     ]
    }
   ],
   "source": [
    "# Not the evaluateGuess\n",
    "import random\n",
    "flag= True\n",
    "while flag:\n",
    "    num= input ('Enter any number between 1 and 1000:')\n",
    "    if num.isdigit():\n",
    "        print(\"Let's play!\")\n",
    "        num= int(num)\n",
    "        flag=False\n",
    "    else:\n",
    "        print(\"Invalid input. Try a whole number. \")\n",
    "        \n",
    "rannum=random.randint(1,1000)\n",
    "guess= None\n",
    "count=1\n",
    "while guess != rannum:\n",
    "    guess = input('Enter a number between 1 and 1000:')\n",
    "    if guess.isdigit() :\n",
    "        guess = int(guess)\n",
    "    if guess == rannum:\n",
    "        print(\"Correct!\")\n",
    "    else: \n",
    "        print(\"Sorry, you guessed wrong.Try again!\")\n",
    "        count+=1\n",
    "print(\"It took you \", count, 'guesses!')"
   ]
  },
  {
   "cell_type": "code",
   "execution_count": null,
   "id": "ada75916",
   "metadata": {},
   "outputs": [],
   "source": [
    "evaluateGuess ()"
   ]
  },
  {
   "cell_type": "markdown",
   "id": "18499adb",
   "metadata": {},
   "source": [
    "# Task 3"
   ]
  },
  {
   "cell_type": "code",
   "execution_count": null,
   "id": "fe1fb42c",
   "metadata": {},
   "outputs": [],
   "source": []
  },
  {
   "cell_type": "code",
   "execution_count": null,
   "id": "5457afdd",
   "metadata": {},
   "outputs": [],
   "source": [
    "TEMPERATURE_SCALES = {\n",
    "    'Celsius': 'C',\n",
    "    'Fahrenheit': 'F',\n",
    "    'Kelvin': 'K'}\n",
    "\n",
    "def convert_temperature(value, input_scale, output_scale):\n",
    "    if input_scale == 'C':\n",
    "        if output_scale == 'F':\n",
    "            return value * 1.8 + 32\n",
    "        elif output_scale == 'K':\n",
    "            return value + 273.15\n",
    "        else:\n",
    "            return value\n",
    "    elif input_scale == 'F':\n",
    "        if output_scale == 'C':\n",
    "            return (value - 32) / 1.8\n",
    "        elif output_scale == 'K':\n",
    "            return (value + 459.67) * 5 / 9\n",
    "        else:\n",
    "            return value\n",
    "    elif input_scale == 'K':\n",
    "        if output_scale == 'C':\n",
    "            return value - 273.15\n",
    "        elif output_scale == 'F':\n",
    "            return value * 9 / 5 - 459.67\n",
    "        else:\n",
    "            return value\n",
    "    else:\n",
    "        return value\n",
    "while True:\n",
    "    # Prompt the user for input\n",
    "    print('Enter the input temperature value:')\n",
    "    value = float(input())\n",
    "    print('Enter the input temperature scale (C, F, or K):')\n",
    "    input_scale = input().upper()\n",
    "    print('Enter the output temperature scale (C, F, or K):')\n",
    "    output_scale = input().upper()\n",
    "\n",
    "    # Convert the temperature and print the result\n",
    "    result = convert_temperature(value, input_scale, output_scale)\n",
    "    print(f'{value} {input_scale} = {result} {output_scale}')\n",
    "\n",
    "    # Prompt the user to continue or quit\n",
    "    print('Enter q to quit, or any other key to continue:')\n",
    "    choice = input()\n",
    "    if choice.lower() == 'q':\n",
    "        break"
   ]
  },
  {
   "cell_type": "code",
   "execution_count": null,
   "id": "d7cefc4e",
   "metadata": {},
   "outputs": [],
   "source": []
  }
 ],
 "metadata": {
  "kernelspec": {
   "display_name": "Python 3 (ipykernel)",
   "language": "python",
   "name": "python3"
  },
  "language_info": {
   "codemirror_mode": {
    "name": "ipython",
    "version": 3
   },
   "file_extension": ".py",
   "mimetype": "text/x-python",
   "name": "python",
   "nbconvert_exporter": "python",
   "pygments_lexer": "ipython3",
   "version": "3.11.5"
  }
 },
 "nbformat": 4,
 "nbformat_minor": 5
}
